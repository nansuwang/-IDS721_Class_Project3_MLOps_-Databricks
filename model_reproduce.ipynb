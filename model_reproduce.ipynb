{
 "cells": [
  {
   "cell_type": "code",
   "execution_count": 2,
   "metadata": {},
   "outputs": [],
   "source": [
    "import dill\n",
    "\n",
    "import numpy as np\n",
    "import pandas as pd"
   ]
  },
  {
   "cell_type": "code",
   "execution_count": 3,
   "metadata": {},
   "outputs": [],
   "source": [
    "df_loaded = pd.read_csv(\"beer.csv\")\n",
    "target_col = \"weekend\""
   ]
  },
  {
   "cell_type": "code",
   "execution_count": 4,
   "metadata": {},
   "outputs": [],
   "source": [
    "from databricks.automl_runtime.sklearn.column_selector import ColumnSelector\n",
    "supported_cols = [\"temp_min_c\", \"beer_cons_liters\", \"temp_max_c\", \"temp_median_c\", \"precip_mm\"]\n",
    "col_selector = ColumnSelector(supported_cols)"
   ]
  },
  {
   "cell_type": "code",
   "execution_count": 5,
   "metadata": {},
   "outputs": [],
   "source": [
    "transformers = []"
   ]
  },
  {
   "cell_type": "code",
   "execution_count": 6,
   "metadata": {},
   "outputs": [],
   "source": [
    "from sklearn.impute import SimpleImputer\n",
    "from sklearn.pipeline import Pipeline\n",
    "from sklearn.preprocessing import FunctionTransformer\n",
    "\n",
    "numerical_pipeline = Pipeline(steps=[\n",
    "    (\"converter\", FunctionTransformer(lambda df: df.apply(pd.to_numeric, errors=\"coerce\"))),\n",
    "    (\"imputer\", SimpleImputer(strategy=\"mean\"))\n",
    "])\n",
    "\n",
    "transformers.append((\"numerical\", numerical_pipeline, [\"temp_min_c\", \"beer_cons_liters\", \"temp_max_c\", \"temp_median_c\", \"precip_mm\"]))"
   ]
  },
  {
   "cell_type": "code",
   "execution_count": 7,
   "metadata": {},
   "outputs": [],
   "source": [
    "from sklearn.compose import ColumnTransformer\n",
    "\n",
    "preprocessor = ColumnTransformer(transformers, remainder=\"passthrough\", sparse_threshold=0)"
   ]
  },
  {
   "cell_type": "code",
   "execution_count": 8,
   "metadata": {},
   "outputs": [],
   "source": [
    "from sklearn.preprocessing import StandardScaler\n",
    "\n",
    "standardizer = StandardScaler()"
   ]
  },
  {
   "cell_type": "code",
   "execution_count": 9,
   "metadata": {},
   "outputs": [],
   "source": [
    "from sklearn.linear_model import LogisticRegression"
   ]
  },
  {
   "cell_type": "code",
   "execution_count": 10,
   "metadata": {},
   "outputs": [],
   "source": [
    "import sklearn\n",
    "from sklearn import set_config\n",
    "from sklearn.pipeline import Pipeline\n",
    "\n",
    "set_config(display=\"diagram\")\n",
    "\n",
    "sklr_classifier = LogisticRegression(\n",
    "  C=22.5199609553659,\n",
    "  l1_ratio=0.00012381248467975483,\n",
    "  penalty=\"elasticnet\",\n",
    "  solver=\"saga\",\n",
    "  random_state=714697156,\n",
    ")\n",
    "\n",
    "model = Pipeline([\n",
    "    (\"column_selector\", col_selector),\n",
    "    (\"preprocessor\", preprocessor),\n",
    "    (\"standardizer\", standardizer),\n",
    "    (\"classifier\", sklr_classifier),\n",
    "])"
   ]
  },
  {
   "cell_type": "code",
   "execution_count": 11,
   "metadata": {},
   "outputs": [],
   "source": [
    "X = df_loaded.iloc[:, [0, 1, 2, 3, 5]]\n",
    "y = df_loaded.iloc[:, 4]"
   ]
  },
  {
   "cell_type": "code",
   "execution_count": 12,
   "metadata": {},
   "outputs": [
    {
     "data": {
      "text/html": [
       "<div>\n",
       "<style scoped>\n",
       "    .dataframe tbody tr th:only-of-type {\n",
       "        vertical-align: middle;\n",
       "    }\n",
       "\n",
       "    .dataframe tbody tr th {\n",
       "        vertical-align: top;\n",
       "    }\n",
       "\n",
       "    .dataframe thead th {\n",
       "        text-align: right;\n",
       "    }\n",
       "</style>\n",
       "<table border=\"1\" class=\"dataframe\">\n",
       "  <thead>\n",
       "    <tr style=\"text-align: right;\">\n",
       "      <th></th>\n",
       "      <th>temp_median_c</th>\n",
       "      <th>temp_min_c</th>\n",
       "      <th>temp_max_c</th>\n",
       "      <th>precip_mm</th>\n",
       "      <th>beer_cons_liters</th>\n",
       "    </tr>\n",
       "  </thead>\n",
       "  <tbody>\n",
       "    <tr>\n",
       "      <th>0</th>\n",
       "      <td>27.30</td>\n",
       "      <td>23.9</td>\n",
       "      <td>32.5</td>\n",
       "      <td>0.0</td>\n",
       "      <td>25.461</td>\n",
       "    </tr>\n",
       "    <tr>\n",
       "      <th>1</th>\n",
       "      <td>27.02</td>\n",
       "      <td>24.5</td>\n",
       "      <td>33.5</td>\n",
       "      <td>0.0</td>\n",
       "      <td>28.972</td>\n",
       "    </tr>\n",
       "    <tr>\n",
       "      <th>2</th>\n",
       "      <td>24.82</td>\n",
       "      <td>22.4</td>\n",
       "      <td>29.9</td>\n",
       "      <td>0.0</td>\n",
       "      <td>30.814</td>\n",
       "    </tr>\n",
       "    <tr>\n",
       "      <th>3</th>\n",
       "      <td>23.98</td>\n",
       "      <td>21.5</td>\n",
       "      <td>28.6</td>\n",
       "      <td>1.2</td>\n",
       "      <td>29.799</td>\n",
       "    </tr>\n",
       "    <tr>\n",
       "      <th>4</th>\n",
       "      <td>23.82</td>\n",
       "      <td>21.0</td>\n",
       "      <td>28.3</td>\n",
       "      <td>0.0</td>\n",
       "      <td>28.900</td>\n",
       "    </tr>\n",
       "  </tbody>\n",
       "</table>\n",
       "</div>"
      ],
      "text/plain": [
       "   temp_median_c  temp_min_c  temp_max_c  precip_mm  beer_cons_liters\n",
       "0          27.30        23.9        32.5        0.0            25.461\n",
       "1          27.02        24.5        33.5        0.0            28.972\n",
       "2          24.82        22.4        29.9        0.0            30.814\n",
       "3          23.98        21.5        28.6        1.2            29.799\n",
       "4          23.82        21.0        28.3        0.0            28.900"
      ]
     },
     "execution_count": 12,
     "metadata": {},
     "output_type": "execute_result"
    }
   ],
   "source": [
    "X.head()"
   ]
  },
  {
   "cell_type": "code",
   "execution_count": 13,
   "metadata": {},
   "outputs": [
    {
     "data": {
      "text/plain": [
       "0    0.0\n",
       "1    0.0\n",
       "2    1.0\n",
       "3    1.0\n",
       "4    0.0\n",
       "Name: weekend, dtype: float64"
      ]
     },
     "execution_count": 13,
     "metadata": {},
     "output_type": "execute_result"
    }
   ],
   "source": [
    "y.head()"
   ]
  },
  {
   "cell_type": "code",
   "execution_count": 14,
   "metadata": {},
   "outputs": [
    {
     "name": "stderr",
     "output_type": "stream",
     "text": [
      "/Users/wns/opt/anaconda3/lib/python3.9/site-packages/sklearn/linear_model/_sag.py:328: ConvergenceWarning: The max_iter was reached which means the coef_ did not converge\n",
      "  warnings.warn(\"The max_iter was reached which means \"\n"
     ]
    },
    {
     "data": {
      "text/html": [
       "<style>#sk-8e25a4ad-6940-4059-b9ea-39a474fec71c {color: black;background-color: white;}#sk-8e25a4ad-6940-4059-b9ea-39a474fec71c pre{padding: 0;}#sk-8e25a4ad-6940-4059-b9ea-39a474fec71c div.sk-toggleable {background-color: white;}#sk-8e25a4ad-6940-4059-b9ea-39a474fec71c label.sk-toggleable__label {cursor: pointer;display: block;width: 100%;margin-bottom: 0;padding: 0.2em 0.3em;box-sizing: border-box;text-align: center;}#sk-8e25a4ad-6940-4059-b9ea-39a474fec71c div.sk-toggleable__content {max-height: 0;max-width: 0;overflow: hidden;text-align: left;background-color: #f0f8ff;}#sk-8e25a4ad-6940-4059-b9ea-39a474fec71c div.sk-toggleable__content pre {margin: 0.2em;color: black;border-radius: 0.25em;background-color: #f0f8ff;}#sk-8e25a4ad-6940-4059-b9ea-39a474fec71c input.sk-toggleable__control:checked~div.sk-toggleable__content {max-height: 200px;max-width: 100%;overflow: auto;}#sk-8e25a4ad-6940-4059-b9ea-39a474fec71c div.sk-estimator input.sk-toggleable__control:checked~label.sk-toggleable__label {background-color: #d4ebff;}#sk-8e25a4ad-6940-4059-b9ea-39a474fec71c div.sk-label input.sk-toggleable__control:checked~label.sk-toggleable__label {background-color: #d4ebff;}#sk-8e25a4ad-6940-4059-b9ea-39a474fec71c input.sk-hidden--visually {border: 0;clip: rect(1px 1px 1px 1px);clip: rect(1px, 1px, 1px, 1px);height: 1px;margin: -1px;overflow: hidden;padding: 0;position: absolute;width: 1px;}#sk-8e25a4ad-6940-4059-b9ea-39a474fec71c div.sk-estimator {font-family: monospace;background-color: #f0f8ff;margin: 0.25em 0.25em;border: 1px dotted black;border-radius: 0.25em;box-sizing: border-box;}#sk-8e25a4ad-6940-4059-b9ea-39a474fec71c div.sk-estimator:hover {background-color: #d4ebff;}#sk-8e25a4ad-6940-4059-b9ea-39a474fec71c div.sk-parallel-item::after {content: \"\";width: 100%;border-bottom: 1px solid gray;flex-grow: 1;}#sk-8e25a4ad-6940-4059-b9ea-39a474fec71c div.sk-label:hover label.sk-toggleable__label {background-color: #d4ebff;}#sk-8e25a4ad-6940-4059-b9ea-39a474fec71c div.sk-serial::before {content: \"\";position: absolute;border-left: 1px solid gray;box-sizing: border-box;top: 2em;bottom: 0;left: 50%;}#sk-8e25a4ad-6940-4059-b9ea-39a474fec71c div.sk-serial {display: flex;flex-direction: column;align-items: center;background-color: white;}#sk-8e25a4ad-6940-4059-b9ea-39a474fec71c div.sk-item {z-index: 1;}#sk-8e25a4ad-6940-4059-b9ea-39a474fec71c div.sk-parallel {display: flex;align-items: stretch;justify-content: center;background-color: white;}#sk-8e25a4ad-6940-4059-b9ea-39a474fec71c div.sk-parallel-item {display: flex;flex-direction: column;position: relative;background-color: white;}#sk-8e25a4ad-6940-4059-b9ea-39a474fec71c div.sk-parallel-item:first-child::after {align-self: flex-end;width: 50%;}#sk-8e25a4ad-6940-4059-b9ea-39a474fec71c div.sk-parallel-item:last-child::after {align-self: flex-start;width: 50%;}#sk-8e25a4ad-6940-4059-b9ea-39a474fec71c div.sk-parallel-item:only-child::after {width: 0;}#sk-8e25a4ad-6940-4059-b9ea-39a474fec71c div.sk-dashed-wrapped {border: 1px dashed gray;margin: 0.2em;box-sizing: border-box;padding-bottom: 0.1em;background-color: white;position: relative;}#sk-8e25a4ad-6940-4059-b9ea-39a474fec71c div.sk-label label {font-family: monospace;font-weight: bold;background-color: white;display: inline-block;line-height: 1.2em;}#sk-8e25a4ad-6940-4059-b9ea-39a474fec71c div.sk-label-container {position: relative;z-index: 2;text-align: center;}#sk-8e25a4ad-6940-4059-b9ea-39a474fec71c div.sk-container {display: inline-block;position: relative;}</style><div id=\"sk-8e25a4ad-6940-4059-b9ea-39a474fec71c\" class\"sk-top-container\"><div class=\"sk-container\"><div class=\"sk-item sk-dashed-wrapped\"><div class=\"sk-label-container\"><div class=\"sk-label sk-toggleable\"><input class=\"sk-toggleable__control sk-hidden--visually\" id=\"7571842d-8005-4fdd-a670-68f0d6388c98\" type=\"checkbox\" ><label class=\"sk-toggleable__label\" for=\"7571842d-8005-4fdd-a670-68f0d6388c98\">Pipeline</label><div class=\"sk-toggleable__content\"><pre>Pipeline(steps=[('column_selector',\n",
       "                 ColumnSelector(cols=['temp_min_c', 'beer_cons_liters',\n",
       "                                      'temp_max_c', 'temp_median_c',\n",
       "                                      'precip_mm'])),\n",
       "                ('preprocessor',\n",
       "                 ColumnTransformer(remainder='passthrough', sparse_threshold=0,\n",
       "                                   transformers=[('numerical',\n",
       "                                                  Pipeline(steps=[('converter',\n",
       "                                                                   FunctionTransformer(func=<function <lambda> at 0x7fdec4b4de50>)),\n",
       "                                                                  ('imputer',\n",
       "                                                                   SimpleImputer())]),\n",
       "                                                  ['temp_min_c',\n",
       "                                                   'beer_cons_liters',\n",
       "                                                   'temp_max_c',\n",
       "                                                   'temp_median_c',\n",
       "                                                   'precip_mm'])])),\n",
       "                ('standardizer', StandardScaler()),\n",
       "                ('classifier',\n",
       "                 LogisticRegression(C=22.5199609553659,\n",
       "                                    l1_ratio=0.00012381248467975483,\n",
       "                                    penalty='elasticnet',\n",
       "                                    random_state=714697156, solver='saga'))])</pre></div></div></div><div class=\"sk-serial\"><div class=\"sk-item\"><div class=\"sk-estimator sk-toggleable\"><input class=\"sk-toggleable__control sk-hidden--visually\" id=\"f723a86d-ade5-4183-aabc-206ba263a2ae\" type=\"checkbox\" ><label class=\"sk-toggleable__label\" for=\"f723a86d-ade5-4183-aabc-206ba263a2ae\">ColumnSelector</label><div class=\"sk-toggleable__content\"><pre>ColumnSelector(cols=['temp_min_c', 'beer_cons_liters', 'temp_max_c',\n",
       "                     'temp_median_c', 'precip_mm'])</pre></div></div></div><div class=\"sk-item sk-dashed-wrapped\"><div class=\"sk-label-container\"><div class=\"sk-label sk-toggleable\"><input class=\"sk-toggleable__control sk-hidden--visually\" id=\"66f88de4-d3b0-40ca-8cbb-e4ac6c25f275\" type=\"checkbox\" ><label class=\"sk-toggleable__label\" for=\"66f88de4-d3b0-40ca-8cbb-e4ac6c25f275\">preprocessor: ColumnTransformer</label><div class=\"sk-toggleable__content\"><pre>ColumnTransformer(remainder='passthrough', sparse_threshold=0,\n",
       "                  transformers=[('numerical',\n",
       "                                 Pipeline(steps=[('converter',\n",
       "                                                  FunctionTransformer(func=<function <lambda> at 0x7fdec4b4de50>)),\n",
       "                                                 ('imputer', SimpleImputer())]),\n",
       "                                 ['temp_min_c', 'beer_cons_liters',\n",
       "                                  'temp_max_c', 'temp_median_c',\n",
       "                                  'precip_mm'])])</pre></div></div></div><div class=\"sk-parallel\"><div class=\"sk-parallel-item\"><div class=\"sk-item\"><div class=\"sk-label-container\"><div class=\"sk-label sk-toggleable\"><input class=\"sk-toggleable__control sk-hidden--visually\" id=\"6f4a2a3a-da56-4991-95e0-27aa364bc340\" type=\"checkbox\" ><label class=\"sk-toggleable__label\" for=\"6f4a2a3a-da56-4991-95e0-27aa364bc340\">numerical</label><div class=\"sk-toggleable__content\"><pre>['temp_min_c', 'beer_cons_liters', 'temp_max_c', 'temp_median_c', 'precip_mm']</pre></div></div></div><div class=\"sk-serial\"><div class=\"sk-item\"><div class=\"sk-serial\"><div class=\"sk-item\"><div class=\"sk-estimator sk-toggleable\"><input class=\"sk-toggleable__control sk-hidden--visually\" id=\"55945c0f-cd81-45e5-9c82-edc5da220cef\" type=\"checkbox\" ><label class=\"sk-toggleable__label\" for=\"55945c0f-cd81-45e5-9c82-edc5da220cef\">FunctionTransformer</label><div class=\"sk-toggleable__content\"><pre>FunctionTransformer(func=<function <lambda> at 0x7fdec4b4de50>)</pre></div></div></div><div class=\"sk-item\"><div class=\"sk-estimator sk-toggleable\"><input class=\"sk-toggleable__control sk-hidden--visually\" id=\"6c4f9b73-ef8e-4c77-8800-fa96ecd58795\" type=\"checkbox\" ><label class=\"sk-toggleable__label\" for=\"6c4f9b73-ef8e-4c77-8800-fa96ecd58795\">SimpleImputer</label><div class=\"sk-toggleable__content\"><pre>SimpleImputer()</pre></div></div></div></div></div></div></div></div><div class=\"sk-parallel-item\"><div class=\"sk-item\"><div class=\"sk-label-container\"><div class=\"sk-label sk-toggleable\"><input class=\"sk-toggleable__control sk-hidden--visually\" id=\"0eedaa19-9a11-4c37-b34c-c8080466faf9\" type=\"checkbox\" ><label class=\"sk-toggleable__label\" for=\"0eedaa19-9a11-4c37-b34c-c8080466faf9\">remainder</label><div class=\"sk-toggleable__content\"><pre>[['temp_min_c', 'beer_cons_liters', 'temp_max_c', 'temp_median_c', 'precip_mm']]</pre></div></div></div><div class=\"sk-serial\"><div class=\"sk-item\"><div class=\"sk-estimator sk-toggleable\"><input class=\"sk-toggleable__control sk-hidden--visually\" id=\"0deda5ab-2a82-4d32-a88d-5dedab73a93f\" type=\"checkbox\" ><label class=\"sk-toggleable__label\" for=\"0deda5ab-2a82-4d32-a88d-5dedab73a93f\">passthrough</label><div class=\"sk-toggleable__content\"><pre>passthrough</pre></div></div></div></div></div></div></div></div><div class=\"sk-item\"><div class=\"sk-estimator sk-toggleable\"><input class=\"sk-toggleable__control sk-hidden--visually\" id=\"23c5c416-abb7-47e5-92e5-19724854c712\" type=\"checkbox\" ><label class=\"sk-toggleable__label\" for=\"23c5c416-abb7-47e5-92e5-19724854c712\">StandardScaler</label><div class=\"sk-toggleable__content\"><pre>StandardScaler()</pre></div></div></div><div class=\"sk-item\"><div class=\"sk-estimator sk-toggleable\"><input class=\"sk-toggleable__control sk-hidden--visually\" id=\"572be11b-64c9-4cc8-b030-3a19e215c431\" type=\"checkbox\" ><label class=\"sk-toggleable__label\" for=\"572be11b-64c9-4cc8-b030-3a19e215c431\">LogisticRegression</label><div class=\"sk-toggleable__content\"><pre>LogisticRegression(C=22.5199609553659, l1_ratio=0.00012381248467975483,\n",
       "                   penalty='elasticnet', random_state=714697156, solver='saga')</pre></div></div></div></div></div></div></div>"
      ],
      "text/plain": [
       "Pipeline(steps=[('column_selector',\n",
       "                 ColumnSelector(cols=['temp_min_c', 'beer_cons_liters',\n",
       "                                      'temp_max_c', 'temp_median_c',\n",
       "                                      'precip_mm'])),\n",
       "                ('preprocessor',\n",
       "                 ColumnTransformer(remainder='passthrough', sparse_threshold=0,\n",
       "                                   transformers=[('numerical',\n",
       "                                                  Pipeline(steps=[('converter',\n",
       "                                                                   FunctionTransformer(func=<function <lambda> at 0x7fdec4b4de50>)),\n",
       "                                                                  ('imputer',\n",
       "                                                                   SimpleImputer())]),\n",
       "                                                  ['temp_min_c',\n",
       "                                                   'beer_cons_liters',\n",
       "                                                   'temp_max_c',\n",
       "                                                   'temp_median_c',\n",
       "                                                   'precip_mm'])])),\n",
       "                ('standardizer', StandardScaler()),\n",
       "                ('classifier',\n",
       "                 LogisticRegression(C=22.5199609553659,\n",
       "                                    l1_ratio=0.00012381248467975483,\n",
       "                                    penalty='elasticnet',\n",
       "                                    random_state=714697156, solver='saga'))])"
      ]
     },
     "execution_count": 14,
     "metadata": {},
     "output_type": "execute_result"
    }
   ],
   "source": [
    "model.fit(X, y)"
   ]
  },
  {
   "cell_type": "code",
   "execution_count": 15,
   "metadata": {},
   "outputs": [],
   "source": [
    "# Create a Pickle file\n",
    "pickle_out = open(\"classification_model.pkl\", \"wb\")\n",
    "dill.dump(model, pickle_out)\n",
    "pickle_out.close()"
   ]
  }
 ],
 "metadata": {
  "interpreter": {
   "hash": "f38515062e2865a726c0b6997065476dfc4e8a8459005a9797c2f60ed67f0f78"
  },
  "kernelspec": {
   "display_name": "Python 3.9.7 ('base')",
   "language": "python",
   "name": "python3"
  },
  "language_info": {
   "codemirror_mode": {
    "name": "ipython",
    "version": 3
   },
   "file_extension": ".py",
   "mimetype": "text/x-python",
   "name": "python",
   "nbconvert_exporter": "python",
   "pygments_lexer": "ipython3",
   "version": "3.9.7"
  },
  "orig_nbformat": 4
 },
 "nbformat": 4,
 "nbformat_minor": 2
}
